{
 "cells": [
  {
   "cell_type": "markdown",
   "metadata": {},
   "source": [
    "# UWavy Navigation - Solution\n",
    "\n",
    "1. Overview\n",
    "2. Inertial Navigation\n",
    "3. Image Recognition\n",
    "4. Synthesis\n",
    "5. Conclusion\n"
   ]
  },
  {
   "cell_type": "code",
   "execution_count": null,
   "metadata": {},
   "outputs": [],
   "source": []
  },
  {
   "cell_type": "markdown",
   "metadata": {},
   "source": [
    "## Overview (TODO)\n",
    "\n"
   ]
  },
  {
   "cell_type": "markdown",
   "metadata": {},
   "source": [
    "## Inertial Navigation"
   ]
  },
  {
   "cell_type": "markdown",
   "metadata": {},
   "source": [
    "### Generating a \"True\" Path\n",
    "[TODO: Animation]"
   ]
  },
  {
   "cell_type": "code",
   "execution_count": null,
   "metadata": {},
   "outputs": [],
   "source": [
    "def wide_uturn(leg=10):\n",
    "    ones = np.ones((leg,1));\n",
    "    zeros = np.zeros((leg,1));\n",
    "    \n",
    "    leg1 = np.hstack((ones, zeros))\n",
    "    leg2 = np.hstack((zeros, ones))\n",
    "    leg3 = np.hstack((-ones, zeros))\n",
    "    return np.concatenate((leg1, leg2, leg3), axis=0)\n",
    "\n",
    "def s_turn(short_leg=5):\n",
    "    ones = np.ones((short_leg,1));\n",
    "    zeros = np.zeros((short_leg,1));\n",
    "    \n",
    "    leg1 = np.hstack((ones, zeros))\n",
    "    leg2 = np.hstack((zeros*2, -ones*2))\n",
    "    leg3 = np.hstack((ones, zeros))\n",
    "    return np.concatenate((leg1, leg2, leg3), axis=0)\n",
    "\n",
    "# Set out a path, starting at START_POS and following updates along DELTAS_TRUE\n",
    "start_pos = np.array([[1500,850]])\n",
    "deltas_true = (np.vstack((np.vstack([s_turn(1) for _ in range(3)]), wide_uturn(3))) * 25).astype(np.float64)\n",
    "path_true = np.cumsum(np.vstack((start_pos, deltas_true)), axis=0)\n",
    "\n",
    "## TODO Plot path_true\n",
    "ani = FlightAnimator()\n",
    "ani.add_path(path_true, label=\"True Path\")\n",
    "ani.start();"
   ]
  },
  {
   "cell_type": "markdown",
   "metadata": {},
   "source": [
    "### Introducing Systematic and Random Error\n",
    "[TODO: Animation]"
   ]
  },
  {
   "cell_type": "code",
   "execution_count": null,
   "metadata": {},
   "outputs": [],
   "source": [
    "# Simulate some input from the onboard sensors and camera\n",
    "deltas_inert = (deltas_true - np.array([3, -1])).astype(np.float64) # Add systematically biased error \n",
    "# TODO add random error\n",
    "ani = FlightAnimator()\n",
    "ani.add_path(path_sim, label=\"Simulated Path\")\n",
    "ani.start();"
   ]
  },
  {
   "cell_type": "markdown",
   "metadata": {},
   "source": [
    "## Image Recognition\n",
    "\n",
    "## "
   ]
  },
  {
   "cell_type": "markdown",
   "metadata": {},
   "source": [
    "### Simulating the onboard camera"
   ]
  },
  {
   "cell_type": "code",
   "execution_count": 1,
   "metadata": {},
   "outputs": [
    {
     "ename": "NameError",
     "evalue": "name 'load_image' is not defined",
     "output_type": "error",
     "traceback": [
      "\u001b[0;31m---------------------------------------------------------------------------\u001b[0m",
      "\u001b[0;31mNameError\u001b[0m                                 Traceback (most recent call last)",
      "\u001b[0;32m<ipython-input-1-d5d1f09b2548>\u001b[0m in \u001b[0;36m<module>\u001b[0;34m\u001b[0m\n\u001b[0;32m----> 1\u001b[0;31m \u001b[0mref_img\u001b[0m \u001b[0;34m=\u001b[0m \u001b[0mload_image\u001b[0m\u001b[0;34m(\u001b[0m\u001b[0;34m)\u001b[0m\u001b[0;34m\u001b[0m\u001b[0;34m\u001b[0m\u001b[0m\n\u001b[0m\u001b[1;32m      2\u001b[0m \u001b[0mimg\u001b[0m \u001b[0;34m=\u001b[0m \u001b[0mtake_picture\u001b[0m\u001b[0;34m(\u001b[0m\u001b[0mref_img\u001b[0m\u001b[0;34m)\u001b[0m\u001b[0;34m\u001b[0m\u001b[0;34m\u001b[0m\u001b[0m\n\u001b[1;32m      3\u001b[0m \u001b[0mplot\u001b[0m\u001b[0;34m(\u001b[0m\u001b[0mref_img\u001b[0m\u001b[0;34m,\u001b[0m \u001b[0mimg\u001b[0m\u001b[0;34m)\u001b[0m\u001b[0;34m\u001b[0m\u001b[0;34m\u001b[0m\u001b[0m\n\u001b[1;32m      4\u001b[0m \u001b[0;31m# TODO subplots, side-by-side etc\u001b[0m\u001b[0;34m\u001b[0m\u001b[0;34m\u001b[0m\u001b[0;34m\u001b[0m\u001b[0m\n",
      "\u001b[0;31mNameError\u001b[0m: name 'load_image' is not defined"
     ]
    }
   ],
   "source": [
    "ref_img = load_image()\n",
    "img = take_picture(ref_img)\n",
    "plot(ref_img, img)\n",
    "# TODO subplots, side-by-side etc"
   ]
  },
  {
   "cell_type": "markdown",
   "metadata": {},
   "source": [
    "### Simulating the image database"
   ]
  },
  {
   "cell_type": "code",
   "execution_count": 2,
   "metadata": {},
   "outputs": [],
   "source": [
    "# TODO: read_img from PIL, or something\n",
    "\n"
   ]
  },
  {
   "cell_type": "markdown",
   "metadata": {},
   "source": [
    "### Searching the database for the captured image"
   ]
  },
  {
   "cell_type": "code",
   "execution_count": 3,
   "metadata": {},
   "outputs": [],
   "source": [
    "# TODO: heatmaps, etc\n",
    "\n"
   ]
  },
  {
   "cell_type": "markdown",
   "metadata": {},
   "source": [
    "## Synthesis"
   ]
  },
  {
   "cell_type": "markdown",
   "metadata": {},
   "source": [
    "### Informing the Search Algorithm\n",
    "1. Starting Point = from intertial nav\n",
    "1. Sprial Pattern\n",
    "1. Search Confidence\n",
    "### Combining Intertial + Image Recognition\n",
    "1. Putting the pieces together\n",
    "[Animation with both inertial + img rec]"
   ]
  },
  {
   "cell_type": "code",
   "execution_count": null,
   "metadata": {},
   "outputs": [],
   "source": [
    "ani = FlightAnimation()\n",
    "ani.add_target_start(path_true[0])\n",
    "ani.add_target_end(path_true[-1])\n",
    "ani.add_path(path_sim)\n",
    "ani.add_path(path_sim_plus)\n",
    "ani.start();"
   ]
  },
  {
   "cell_type": "markdown",
   "metadata": {},
   "source": [
    "## Conclusion\n",
    "[TODO: Make some over-generalizing statements]\n",
    "### Future Steps\n",
    "1. Increasing search radius dynamically"
   ]
  },
  {
   "cell_type": "code",
   "execution_count": null,
   "metadata": {},
   "outputs": [],
   "source": []
  }
 ],
 "metadata": {
  "kernelspec": {
   "display_name": "Python 3",
   "language": "python",
   "name": "python3"
  },
  "language_info": {
   "codemirror_mode": {
    "name": "ipython",
    "version": 3
   },
   "file_extension": ".py",
   "mimetype": "text/x-python",
   "name": "python",
   "nbconvert_exporter": "python",
   "pygments_lexer": "ipython3",
   "version": "3.7.3"
  }
 },
 "nbformat": 4,
 "nbformat_minor": 2
}
