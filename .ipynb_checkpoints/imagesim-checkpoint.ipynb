{
 "cells": [
  {
   "cell_type": "code",
   "execution_count": null,
   "metadata": {},
   "outputs": [],
   "source": [
    "\n"
   ]
  },
  {
   "cell_type": "code",
   "execution_count": 2,
   "metadata": {},
   "outputs": [],
   "source": [
    "import numpy as np\n",
    "import matplotlib.pyplot as plt\n",
    "from scipy import misc\n",
    "\n",
    "plt.rcParams['figure.figsize'] = 5, 10\n",
    "\n",
    "\n",
    "from functools import partial\n",
    "\n",
    "def zero_noise(dx):\n",
    "    return 0\n",
    "\n",
    "def uniform(a, b, dx):\n",
    "    return np.random.uniform(a, b, size=dx.shape)\n",
    "\n",
    "def percent_noise(dx, alpha=2.0):\n",
    "    return np.random.uniform(-alpha/2*dx, +alpha/2*dx)\n",
    "\n",
    "def gaussian(dx, mu = 0, var = 1.0):\n",
    "    return np.random.normal(loc = mu, scale = var)\n",
    "    \n",
    "\n",
    "def simulate_input(deltas, noise_fn=zero_noise, prepend_zero=True):\n",
    "    path = np.zeros(deltas.shape)\n",
    "    for i in range(len(path)):\n",
    "        path[i] = path[i-1] + deltas[i] + noise_fn(deltas[i])\n",
    "    \n",
    "    if prepend_zero:\n",
    "        return np.concatenate((np.zeros((1,2)), path), axis=0)\n",
    "    else:\n",
    "        return path"
   ]
  },
  {
   "cell_type": "code",
   "execution_count": null,
   "metadata": {},
   "outputs": [],
   "source": []
  },
  {
   "cell_type": "code",
   "execution_count": null,
   "metadata": {},
   "outputs": [],
   "source": []
  },
  {
   "cell_type": "code",
   "execution_count": 3,
   "metadata": {},
   "outputs": [],
   "source": [
    "def sampleAt(x, y, img, radius):        \n",
    "    return img[x - radius:x + radius, y - radius:y + radius]\n",
    "\n",
    "def correct(x, y, true, img, sampradius=10, searchradius=50, threshold = 15):\n",
    "    bestdiff = 1e99\n",
    "    bestcoords = (x, y)\n",
    "    \n",
    "    # increase sampling as radius inacreases (concentric squares)\n",
    "    # measure threshold as percentage of pixels (normalize)\n",
    "    # conversion from floats to integers\n",
    "    \n",
    "    for radius in range(searchradius):\n",
    "        for angle in np.linspace(0, 2 * np.pi, 50):\n",
    "            xtest = int(x + radius * np.cos(angle / 50 ))\n",
    "            ytest = int(y + radius * np.sin(angle / 50))\n",
    "            diff = np.sum(np.square(true - sampleAt(xtest, ytest, img, sampradius)))\n",
    "            if diff < bestdiff:\n",
    "                bestdiff = diff\n",
    "                bestcoords = (xtest, ytest)\n",
    "            if diff < threshold:\n",
    "                return (xtest, ytest)\n",
    "            \n",
    "    return np.array(bestcoords)"
   ]
  },
  {
   "cell_type": "code",
   "execution_count": 5,
   "metadata": {},
   "outputs": [],
   "source": [
    "def simulateWithCorrections(deltas, img, noise_fn=zero_noise):\n",
    "    path = np.zeros(deltas.shape)\n",
    "    camerapos = np.zeros(deltas.shape)\n",
    "    \n",
    "    \n",
    "    \n",
    "    for i in range(len(path)):\n",
    "        path[i] = path[i-1] + deltas[i] + noise_fn(deltas[i])\n",
    "        camerapos[i] = camerapos[i-1] + deltas[i]\n",
    "        \n",
    "        if i % 100 == 0 and i != 0:\n",
    "            sampradius = 10\n",
    "            if camerapos[i,0] < sampradius\\\n",
    "            or camerapos[i,1] < sampradius\\\n",
    "            or camerapos[i,0] + sampradius >= img.shape[0]\\\n",
    "            or camerapos[i,1] + sampradius >= img.shape[1]: \n",
    "                pass\n",
    "            else:\n",
    "                path[i] = correct(path[i,0], path[i,1], sampleAt(int(camerapos[i,0]), int(camerapos[i,1]), img, sampradius), img)\n",
    "    return path"
   ]
  },
  {
   "cell_type": "code",
   "execution_count": null,
   "metadata": {},
   "outputs": [],
   "source": [
    "import skimage as ski\n",
    "\n",
    "img = ski.io.imread('manhattan.jpg', as_gray = True)\n",
    "fig, ax = plt.subplots()\n",
    "ax.imshow(img, cmap='Greys')\n",
    "\n",
    "\n",
    "\n",
    "xdeltas = np.ones(((np.min(img.shape)), 1))\n",
    "ydeltas = np.ones(((np.min(img.shape), 1)))\n",
    "\n",
    "deltas = np.hstack((xdeltas, ydeltas))\n",
    "\n",
    "\n",
    "simulated_paths = []\n",
    "\n",
    "\n",
    "for i in range(10):\n",
    "    simulated = simulate_input(deltas, percent_noise)\n",
    "    \n",
    "    corrected = simulateWithCorrections(deltas, img, percent_noise)\n",
    "    \n",
    "    ax.plot(simulated[:,0], simulated[:,1], 'b', alpha=0.4)\n",
    "    ax.plot(corrected[0,:], corrected[1,:], 'g', alpha=0.5)\n",
    "\n",
    "ax.plot(xpath, ypath, linewidth=1, color='red')"
   ]
  },
  {
   "cell_type": "code",
   "execution_count": 174,
   "metadata": {},
   "outputs": [
    {
     "data": {
      "text/plain": [
       "array([0.000e+00, 1.000e+00, 2.000e+00, ..., 1.962e+03, 1.963e+03,\n",
       "       1.964e+03])"
      ]
     },
     "execution_count": 174,
     "metadata": {},
     "output_type": "execute_result"
    }
   ],
   "source": [
    "corrected[0,:]"
   ]
  }
 ],
 "metadata": {
  "kernelspec": {
   "display_name": "Python 3",
   "language": "python",
   "name": "python3"
  },
  "language_info": {
   "codemirror_mode": {
    "name": "ipython",
    "version": 3
   },
   "file_extension": ".py",
   "mimetype": "text/x-python",
   "name": "python",
   "nbconvert_exporter": "python",
   "pygments_lexer": "ipython3",
   "version": "3.7.3"
  }
 },
 "nbformat": 4,
 "nbformat_minor": 2
}
